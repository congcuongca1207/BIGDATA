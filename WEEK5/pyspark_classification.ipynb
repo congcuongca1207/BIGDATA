{
  "nbformat": 4,
  "nbformat_minor": 0,
  "metadata": {
    "colab": {
      "provenance": []
    },
    "kernelspec": {
      "name": "python3",
      "display_name": "Python 3"
    },
    "language_info": {
      "name": "python"
    }
  },
  "cells": [
    {
      "cell_type": "markdown",
      "source": [
        "# Set Up"
      ],
      "metadata": {
        "id": "m1d63FxXxcuT"
      }
    },
    {
      "cell_type": "code",
      "execution_count": null,
      "metadata": {
        "colab": {
          "base_uri": "https://localhost:8080/"
        },
        "id": "emr-JzoWrtUs",
        "outputId": "75c1a146-9b7f-4648-a976-9862621b5d50"
      },
      "outputs": [
        {
          "output_type": "stream",
          "name": "stdout",
          "text": [
            "Collecting pyspark\n",
            "  Downloading pyspark-3.5.1.tar.gz (317.0 MB)\n",
            "\u001b[2K     \u001b[90m━━━━━━━━━━━━━━━━━━━━━━━━━━━━━━━━━━━━━━━━\u001b[0m \u001b[32m317.0/317.0 MB\u001b[0m \u001b[31m3.0 MB/s\u001b[0m eta \u001b[36m0:00:00\u001b[0m\n",
            "\u001b[?25h  Preparing metadata (setup.py) ... \u001b[?25l\u001b[?25hdone\n",
            "Requirement already satisfied: py4j==0.10.9.7 in /usr/local/lib/python3.10/dist-packages (from pyspark) (0.10.9.7)\n",
            "Building wheels for collected packages: pyspark\n",
            "  Building wheel for pyspark (setup.py) ... \u001b[?25l\u001b[?25hdone\n",
            "  Created wheel for pyspark: filename=pyspark-3.5.1-py2.py3-none-any.whl size=317488491 sha256=e412eaf595a7b7ffe70d07ebf12119170a42d53439efa593f33ddea9f6e2b199\n",
            "  Stored in directory: /root/.cache/pip/wheels/80/1d/60/2c256ed38dddce2fdd93be545214a63e02fbd8d74fb0b7f3a6\n",
            "Successfully built pyspark\n",
            "Installing collected packages: pyspark\n",
            "Successfully installed pyspark-3.5.1\n"
          ]
        }
      ],
      "source": [
        "!pip install pyspark"
      ]
    },
    {
      "cell_type": "code",
      "source": [
        "from pyspark.sql import SparkSession\n",
        "from pyspark.sql.functions import round\n",
        "from pyspark.ml.feature import StringIndexer, VectorAssembler\n",
        "from pyspark.ml.classification import DecisionTreeClassifier"
      ],
      "metadata": {
        "id": "Eveqw992xhdn"
      },
      "execution_count": null,
      "outputs": []
    },
    {
      "cell_type": "code",
      "source": [
        "# Create SparkSession object\n",
        "spark = SparkSession.builder \\\n",
        "                    .master('local[*]') \\\n",
        "                    .appName('Flight Data Analysis') \\\n",
        "                    .getOrCreate()"
      ],
      "metadata": {
        "id": "xpXCMg2CxjfC"
      },
      "execution_count": null,
      "outputs": []
    },
    {
      "cell_type": "markdown",
      "source": [
        "# Read Data"
      ],
      "metadata": {
        "id": "ki0xH3aCxknM"
      }
    },
    {
      "cell_type": "code",
      "source": [
        "# Read data from CSV file\n",
        "flights = spark.read.csv('flights.csv', sep=',', header=True, inferSchema=True, nullValue='NA')"
      ],
      "metadata": {
        "id": "THY0gFnTxotZ"
      },
      "execution_count": null,
      "outputs": []
    },
    {
      "cell_type": "code",
      "source": [
        "# Get number of records\n",
        "print(\"The data contain %d records.\" % flights.count())"
      ],
      "metadata": {
        "colab": {
          "base_uri": "https://localhost:8080/"
        },
        "id": "qdpWh3EyxqNh",
        "outputId": "3c10d565-0c39-4ba3-888c-82f7d32e677f"
      },
      "execution_count": null,
      "outputs": [
        {
          "output_type": "stream",
          "name": "stdout",
          "text": [
            "The data contain 50000 records.\n"
          ]
        }
      ]
    },
    {
      "cell_type": "code",
      "source": [
        "# View the first five records\n",
        "flights.show(5)"
      ],
      "metadata": {
        "colab": {
          "base_uri": "https://localhost:8080/"
        },
        "id": "rskR3JT6xuyu",
        "outputId": "29038af5-cea7-4b7e-ee77-a6faf097836d"
      },
      "execution_count": null,
      "outputs": [
        {
          "output_type": "stream",
          "name": "stdout",
          "text": [
            "+---+---+---+-------+------+---+----+------+--------+-----+\n",
            "|mon|dom|dow|carrier|flight|org|mile|depart|duration|delay|\n",
            "+---+---+---+-------+------+---+----+------+--------+-----+\n",
            "| 11| 20|  6|     US|    19|JFK|2153|  9.48|     351| NULL|\n",
            "|  0| 22|  2|     UA|  1107|ORD| 316| 16.33|      82|   30|\n",
            "|  2| 20|  4|     UA|   226|SFO| 337|  6.17|      82|   -8|\n",
            "|  9| 13|  1|     AA|   419|ORD|1236| 10.33|     195|   -5|\n",
            "|  4|  2|  5|     AA|   325|ORD| 258|  8.92|      65| NULL|\n",
            "+---+---+---+-------+------+---+----+------+--------+-----+\n",
            "only showing top 5 rows\n",
            "\n"
          ]
        }
      ]
    },
    {
      "cell_type": "code",
      "source": [
        "flights.printSchema()"
      ],
      "metadata": {
        "colab": {
          "base_uri": "https://localhost:8080/"
        },
        "id": "EACTiMo1xw8g",
        "outputId": "d0530d8e-16ea-4863-9f23-ae41381b77a2"
      },
      "execution_count": null,
      "outputs": [
        {
          "output_type": "stream",
          "name": "stdout",
          "text": [
            "root\n",
            " |-- mon: integer (nullable = true)\n",
            " |-- dom: integer (nullable = true)\n",
            " |-- dow: integer (nullable = true)\n",
            " |-- carrier: string (nullable = true)\n",
            " |-- flight: integer (nullable = true)\n",
            " |-- org: string (nullable = true)\n",
            " |-- mile: integer (nullable = true)\n",
            " |-- depart: double (nullable = true)\n",
            " |-- duration: integer (nullable = true)\n",
            " |-- delay: integer (nullable = true)\n",
            "\n"
          ]
        }
      ]
    },
    {
      "cell_type": "code",
      "source": [
        "flights.describe().show()"
      ],
      "metadata": {
        "colab": {
          "base_uri": "https://localhost:8080/"
        },
        "id": "kDcp8JPKxzV5",
        "outputId": "874c9e64-6e56-4c01-f6d6-1369a0bdeed1"
      },
      "execution_count": null,
      "outputs": [
        {
          "output_type": "stream",
          "name": "stdout",
          "text": [
            "+-------+-----------------+-----------------+-----------------+-------+------------------+-----+----------------+------------------+-----------------+------------------+\n",
            "|summary|              mon|              dom|              dow|carrier|            flight|  org|            mile|            depart|         duration|             delay|\n",
            "+-------+-----------------+-----------------+-----------------+-------+------------------+-----+----------------+------------------+-----------------+------------------+\n",
            "|  count|            50000|            50000|            50000|  50000|             50000|50000|           50000|             50000|            50000|             47022|\n",
            "|   mean|           5.2351|         15.66196|          2.95236|   NULL|        2054.31344| NULL|       882.40112|14.130952600000064|        151.76582|28.663795670111863|\n",
            "| stddev|3.437758623534696|8.772488135606777|1.966033503314405|   NULL|2182.4715300582875| NULL|701.232785607705| 4.694052286573998|87.04507290261697| 54.24034253403119|\n",
            "|    min|                0|                1|                0|     AA|                 1|  JFK|              67|              0.25|               30|               -72|\n",
            "|    max|               11|               31|                6|     WN|              6941|  TUS|            4243|             23.98|              560|              1370|\n",
            "+-------+-----------------+-----------------+-----------------+-------+------------------+-----+----------------+------------------+-----------------+------------------+\n",
            "\n"
          ]
        }
      ]
    },
    {
      "cell_type": "markdown",
      "source": [
        "# Clean Data"
      ],
      "metadata": {
        "id": "nksgzzIGx4-t"
      }
    },
    {
      "cell_type": "code",
      "source": [
        "# Remove the 'flight' column\n",
        "flights = flights.drop('flight')"
      ],
      "metadata": {
        "id": "ElAiaaaNx8W-"
      },
      "execution_count": null,
      "outputs": []
    },
    {
      "cell_type": "code",
      "source": [
        "# Remove records with missing 'delay' values\n",
        "flights = flights.filter('delay IS NOT NULL')"
      ],
      "metadata": {
        "id": "pdBxLe2Fx9zp"
      },
      "execution_count": null,
      "outputs": []
    },
    {
      "cell_type": "code",
      "source": [
        "# Remove records with missing values in any column\n",
        "flights = flights.dropna()\n",
        "print(\"After cleaning, the data contain %d records.\" % flights.count())"
      ],
      "metadata": {
        "colab": {
          "base_uri": "https://localhost:8080/"
        },
        "id": "PYto65lhx_-O",
        "outputId": "dd535dae-6ea9-4bb3-9ca0-2df4a4277ad0"
      },
      "execution_count": null,
      "outputs": [
        {
          "output_type": "stream",
          "name": "stdout",
          "text": [
            "After cleaning, the data contain 47022 records.\n"
          ]
        }
      ]
    },
    {
      "cell_type": "markdown",
      "source": [
        "# Feature Engineering"
      ],
      "metadata": {
        "id": "9ky4BXyfyFdr"
      }
    },
    {
      "cell_type": "code",
      "source": [
        "# Convert 'mile' to 'km' and drop 'mile' column\n",
        "flights = flights.withColumn('km', round(flights.mile * 1.60934, 0)).drop('mile')"
      ],
      "metadata": {
        "id": "DBtehF2hyBy3"
      },
      "execution_count": null,
      "outputs": []
    },
    {
      "cell_type": "code",
      "source": [
        "# Create 'label' column indicating whether flight delayed (1) or not (0)\n",
        "flights = flights.withColumn('label', (flights.delay >= 15).cast('integer'))"
      ],
      "metadata": {
        "id": "2hhLng1tyDtg"
      },
      "execution_count": null,
      "outputs": []
    },
    {
      "cell_type": "code",
      "source": [
        "# Indexing categorical columns 'carrier' and 'org'\n",
        "indexer_carrier = StringIndexer(inputCol='carrier', outputCol='carrier_idx')\n",
        "indexer_model_carrier = indexer_carrier.fit(flights)\n",
        "flights = indexer_model_carrier.transform(flights)\n",
        "\n",
        "indexer_org = StringIndexer(inputCol='org', outputCol='org_idx')\n",
        "indexer_model_org = indexer_org.fit(flights)\n",
        "flights = indexer_model_org.transform(flights)"
      ],
      "metadata": {
        "id": "HCukSRVAyJJK"
      },
      "execution_count": null,
      "outputs": []
    },
    {
      "cell_type": "markdown",
      "source": [
        "# Prepare for Model"
      ],
      "metadata": {
        "id": "4Z80POpryWmq"
      }
    },
    {
      "cell_type": "code",
      "source": [
        "# Split into training and testing sets in a 80:20 ratio\n",
        "flights_train, flights_test = flights.randomSplit([0.8, 0.2], seed=17)"
      ],
      "metadata": {
        "id": "LCvkNIAiyYld"
      },
      "execution_count": null,
      "outputs": []
    },
    {
      "cell_type": "code",
      "source": [
        "# Check the proportion of the training set\n",
        "training_ratio = flights_train.count() / flights.count()\n",
        "print(\"Training set contains approximately %.2f%% of the records.\" % (training_ratio * 100))"
      ],
      "metadata": {
        "id": "5o_kHp23yabr"
      },
      "execution_count": null,
      "outputs": []
    },
    {
      "cell_type": "code",
      "source": [
        "# Create an assembler object to consolidate predictor columns into a single column\n",
        "assembler = VectorAssembler(\n",
        "    inputCols=['mon', 'dom', 'dow', 'carrier_idx', 'org_idx', 'km', 'depart', 'duration'],\n",
        "    outputCol='features'\n",
        ")\n",
        "flights_train = assembler.transform(flights_train)\n",
        "flights_test = assembler.transform(flights_test)"
      ],
      "metadata": {
        "id": "XNGM9h8Yyb_K"
      },
      "execution_count": null,
      "outputs": []
    },
    {
      "cell_type": "markdown",
      "source": [
        "# Decision Tree Model"
      ],
      "metadata": {
        "id": "U_KdNHA5yOLD"
      }
    },
    {
      "cell_type": "code",
      "source": [
        "# Build a Decision Tree model\n",
        "tree = DecisionTreeClassifier(featuresCol='features', labelCol='label')\n",
        "tree_model = tree.fit(flights_train)"
      ],
      "metadata": {
        "id": "zeuxoDCQyevd"
      },
      "execution_count": null,
      "outputs": []
    },
    {
      "cell_type": "code",
      "source": [
        "# Make predictions for the testing data\n",
        "predictions = tree_model.transform(flights_test)\n",
        "predictions.select('label', 'prediction', 'probability').show(5, truncate=False)"
      ],
      "metadata": {
        "colab": {
          "base_uri": "https://localhost:8080/"
        },
        "id": "3d-SyBA6vgTa",
        "outputId": "4000979d-a9e0-4224-e6ed-0ff249c92d59"
      },
      "execution_count": null,
      "outputs": [
        {
          "output_type": "stream",
          "name": "stdout",
          "text": [
            "+-----+----------+----------------------------------------+\n",
            "|label|prediction|probability                             |\n",
            "+-----+----------+----------------------------------------+\n",
            "|1    |0.0       |[0.5297666934835077,0.47023330651649237]|\n",
            "|0    |1.0       |[0.35275502606105735,0.6472449739389426]|\n",
            "|0    |0.0       |[0.689616672869371,0.31038332713062894] |\n",
            "|1    |1.0       |[0.35275502606105735,0.6472449739389426]|\n",
            "|1    |1.0       |[0.35275502606105735,0.6472449739389426]|\n",
            "+-----+----------+----------------------------------------+\n",
            "only showing top 5 rows\n",
            "\n"
          ]
        }
      ]
    },
    {
      "cell_type": "code",
      "source": [
        "# Evaluate the Decision Tree\n",
        "\n",
        "# Create a confusion matrix\n",
        "predictions.groupBy('label', 'prediction').count().show()\n",
        "\n",
        "# Calculate the elements of the confusion matrix\n",
        "TN = predictions.filter('prediction = 0 AND label = prediction').count()\n",
        "TP = predictions.filter('prediction = 1 AND label = prediction').count()\n",
        "FN = predictions.filter('prediction = 0 AND label != prediction').count()\n",
        "FP = predictions.filter('prediction = 1 AND label != prediction').count()\n",
        "\n",
        "# Accuracy measures the proportion of correct predictions\n",
        "accuracy = (TN + TP) / (TN + TP + FN + FP)\n",
        "print(accuracy)"
      ],
      "metadata": {
        "colab": {
          "base_uri": "https://localhost:8080/"
        },
        "id": "MxqNePjhw4pr",
        "outputId": "94479be3-7c2e-4c6f-e870-5ff89bdcd03a"
      },
      "execution_count": null,
      "outputs": [
        {
          "output_type": "stream",
          "name": "stdout",
          "text": [
            "+-----+----------+-----+\n",
            "|label|prediction|count|\n",
            "+-----+----------+-----+\n",
            "|    1|       0.0| 1611|\n",
            "|    0|       0.0| 2735|\n",
            "|    1|       1.0| 3299|\n",
            "|    0|       1.0| 1902|\n",
            "+-----+----------+-----+\n",
            "\n",
            "0.6320310045040327\n"
          ]
        }
      ]
    },
    {
      "cell_type": "markdown",
      "source": [
        "# Logistic Regression Model"
      ],
      "metadata": {
        "id": "ZCKeIuEdyl8D"
      }
    },
    {
      "cell_type": "code",
      "source": [
        "# Import the logistic regression class\n",
        "from pyspark.ml.classification import LogisticRegression\n",
        "\n",
        "# Create a classifier object and train on training data\n",
        "logistic = LogisticRegression().fit(flights_train)\n",
        "\n",
        "# Create predictions for the testing data and show confusion matrix\n",
        "prediction = logistic.transform(flights_test)\n",
        "prediction.groupBy('label', 'prediction').count().show()"
      ],
      "metadata": {
        "colab": {
          "base_uri": "https://localhost:8080/"
        },
        "id": "8ourV0JVxEgN",
        "outputId": "81e82f76-d6ed-40c2-e70b-a62722e96cd0"
      },
      "execution_count": null,
      "outputs": [
        {
          "output_type": "stream",
          "name": "stdout",
          "text": [
            "+-----+----------+-----+\n",
            "|label|prediction|count|\n",
            "+-----+----------+-----+\n",
            "|    1|       0.0| 1671|\n",
            "|    0|       0.0| 2522|\n",
            "|    1|       1.0| 3239|\n",
            "|    0|       1.0| 2115|\n",
            "+-----+----------+-----+\n",
            "\n"
          ]
        }
      ]
    },
    {
      "cell_type": "code",
      "source": [
        "# Evaluate the Logistic Regression model\n",
        "from pyspark.ml.evaluation import MulticlassClassificationEvaluator, BinaryClassificationEvaluator\n",
        "\n",
        "# Calculate precision and recall\n",
        "precision = TP / (TP + FP)\n",
        "recall = TP / (TP + FN)\n",
        "print('precision = {:.2f}\\nrecall    = {:.2f}'.format(precision, recall))\n",
        "\n",
        "# Find weighted precision\n",
        "multi_evaluator = MulticlassClassificationEvaluator()\n",
        "weighted_precision = multi_evaluator.evaluate(prediction, {multi_evaluator.metricName: \"weightedPrecision\"})\n",
        "\n",
        "# Find AUC\n",
        "binary_evaluator = BinaryClassificationEvaluator()\n",
        "auc = binary_evaluator.evaluate(prediction, {binary_evaluator.metricName: \"areaUnderROC\"})"
      ],
      "metadata": {
        "colab": {
          "base_uri": "https://localhost:8080/"
        },
        "id": "S_T1GvYzxM1P",
        "outputId": "a99d37fd-c390-4f65-dc29-8933036e64b3"
      },
      "execution_count": null,
      "outputs": [
        {
          "output_type": "stream",
          "name": "stdout",
          "text": [
            "precision = 0.63\n",
            "recall    = 0.67\n"
          ]
        }
      ]
    }
  ]
}