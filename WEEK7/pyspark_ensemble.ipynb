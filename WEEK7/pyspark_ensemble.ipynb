{
  "nbformat": 4,
  "nbformat_minor": 0,
  "metadata": {
    "colab": {
      "provenance": []
    },
    "kernelspec": {
      "name": "python3",
      "display_name": "Python 3"
    },
    "language_info": {
      "name": "python"
    }
  },
  "cells": [
    {
      "cell_type": "markdown",
      "source": [
        "# Set Up"
      ],
      "metadata": {
        "id": "m1d63FxXxcuT"
      }
    },
    {
      "cell_type": "code",
      "execution_count": null,
      "metadata": {
        "id": "emr-JzoWrtUs"
      },
      "outputs": [],
      "source": [
        "# !pip install pyspark==3.3.1"
      ]
    },
    {
      "cell_type": "code",
      "source": [
        "from pyspark.sql import SparkSession\n",
        "from pyspark.sql.functions import round\n",
        "from pyspark.ml import Pipeline\n",
        "from pyspark.ml.feature import StringIndexer, OneHotEncoder, VectorAssembler\n",
        "from pyspark.ml.regression import LinearRegression\n",
        "from pyspark.ml.evaluation import RegressionEvaluator\n",
        "from pyspark.ml.tuning import ParamGridBuilder, CrossValidator"
      ],
      "metadata": {
        "id": "Eveqw992xhdn"
      },
      "execution_count": null,
      "outputs": []
    },
    {
      "cell_type": "code",
      "source": [
        "# Create SparkSession object\n",
        "spark = SparkSession.builder \\\n",
        "                    .master('local[*]') \\\n",
        "                    .appName('Flight Data Analysis') \\\n",
        "                    .getOrCreate()"
      ],
      "metadata": {
        "id": "xpXCMg2CxjfC"
      },
      "execution_count": null,
      "outputs": []
    },
    {
      "cell_type": "markdown",
      "source": [
        "# Read Data"
      ],
      "metadata": {
        "id": "ki0xH3aCxknM"
      }
    },
    {
      "cell_type": "code",
      "source": [
        "# Read data from CSV file\n",
        "flights = spark.read.csv('flights.csv', sep=',', header=True, inferSchema=True, nullValue='NA')"
      ],
      "metadata": {
        "id": "THY0gFnTxotZ"
      },
      "execution_count": null,
      "outputs": []
    },
    {
      "cell_type": "code",
      "source": [
        "# Get number of records\n",
        "print(\"The data contain %d records.\" % flights.count())"
      ],
      "metadata": {
        "colab": {
          "base_uri": "https://localhost:8080/"
        },
        "id": "qdpWh3EyxqNh",
        "outputId": "eff5d0c3-91bf-49b4-a367-5bcb945a7207"
      },
      "execution_count": null,
      "outputs": [
        {
          "output_type": "stream",
          "name": "stdout",
          "text": [
            "The data contain 50000 records.\n"
          ]
        }
      ]
    },
    {
      "cell_type": "code",
      "source": [
        "# View the first five records\n",
        "flights.show(5)"
      ],
      "metadata": {
        "colab": {
          "base_uri": "https://localhost:8080/"
        },
        "id": "rskR3JT6xuyu",
        "outputId": "92147e45-a294-4020-b929-c04afaada2f1"
      },
      "execution_count": null,
      "outputs": [
        {
          "output_type": "stream",
          "name": "stdout",
          "text": [
            "+---+---+---+-------+------+---+----+------+--------+-----+\n",
            "|mon|dom|dow|carrier|flight|org|mile|depart|duration|delay|\n",
            "+---+---+---+-------+------+---+----+------+--------+-----+\n",
            "| 11| 20|  6|     US|    19|JFK|2153|  9.48|     351| null|\n",
            "|  0| 22|  2|     UA|  1107|ORD| 316| 16.33|      82|   30|\n",
            "|  2| 20|  4|     UA|   226|SFO| 337|  6.17|      82|   -8|\n",
            "|  9| 13|  1|     AA|   419|ORD|1236| 10.33|     195|   -5|\n",
            "|  4|  2|  5|     AA|   325|ORD| 258|  8.92|      65| null|\n",
            "+---+---+---+-------+------+---+----+------+--------+-----+\n",
            "only showing top 5 rows\n",
            "\n"
          ]
        }
      ]
    },
    {
      "cell_type": "code",
      "source": [
        "flights.printSchema()"
      ],
      "metadata": {
        "colab": {
          "base_uri": "https://localhost:8080/"
        },
        "id": "EACTiMo1xw8g",
        "outputId": "db9318c1-7404-4bee-e460-c025ee64eb59"
      },
      "execution_count": null,
      "outputs": [
        {
          "output_type": "stream",
          "name": "stdout",
          "text": [
            "root\n",
            " |-- mon: integer (nullable = true)\n",
            " |-- dom: integer (nullable = true)\n",
            " |-- dow: integer (nullable = true)\n",
            " |-- carrier: string (nullable = true)\n",
            " |-- flight: integer (nullable = true)\n",
            " |-- org: string (nullable = true)\n",
            " |-- mile: integer (nullable = true)\n",
            " |-- depart: double (nullable = true)\n",
            " |-- duration: integer (nullable = true)\n",
            " |-- delay: integer (nullable = true)\n",
            "\n"
          ]
        }
      ]
    },
    {
      "cell_type": "code",
      "source": [
        "flights.describe().show()"
      ],
      "metadata": {
        "colab": {
          "base_uri": "https://localhost:8080/"
        },
        "id": "kDcp8JPKxzV5",
        "outputId": "7b6c3673-7f97-4095-e228-4bcbc1ee76c3"
      },
      "execution_count": null,
      "outputs": [
        {
          "output_type": "stream",
          "name": "stdout",
          "text": [
            "+-------+-----------------+-----------------+-----------------+-------+------------------+-----+----------------+------------------+-----------------+------------------+\n",
            "|summary|              mon|              dom|              dow|carrier|            flight|  org|            mile|            depart|         duration|             delay|\n",
            "+-------+-----------------+-----------------+-----------------+-------+------------------+-----+----------------+------------------+-----------------+------------------+\n",
            "|  count|            50000|            50000|            50000|  50000|             50000|50000|           50000|             50000|            50000|             47022|\n",
            "|   mean|           5.2351|         15.66196|          2.95236|   null|        2054.31344| null|       882.40112|14.130952600000064|        151.76582|28.663795670111863|\n",
            "| stddev|3.437758623534696|8.772488135606777|1.966033503314405|   null|2182.4715300582875| null|701.232785607705| 4.694052286573998|87.04507290261697| 54.24034253403119|\n",
            "|    min|                0|                1|                0|     AA|                 1|  JFK|              67|              0.25|               30|               -72|\n",
            "|    max|               11|               31|                6|     WN|              6941|  TUS|            4243|             23.98|              560|              1370|\n",
            "+-------+-----------------+-----------------+-----------------+-------+------------------+-----+----------------+------------------+-----------------+------------------+\n",
            "\n"
          ]
        }
      ]
    },
    {
      "cell_type": "markdown",
      "source": [
        "# Clean Data"
      ],
      "metadata": {
        "id": "nksgzzIGx4-t"
      }
    },
    {
      "cell_type": "code",
      "source": [
        "# Remove the 'flight' column\n",
        "flights = flights.drop('flight')"
      ],
      "metadata": {
        "id": "ElAiaaaNx8W-"
      },
      "execution_count": null,
      "outputs": []
    },
    {
      "cell_type": "code",
      "source": [
        "# Remove records with missing 'delay' values\n",
        "flights = flights.filter('delay IS NOT NULL')"
      ],
      "metadata": {
        "id": "pdBxLe2Fx9zp"
      },
      "execution_count": null,
      "outputs": []
    },
    {
      "cell_type": "code",
      "source": [
        "# Remove records with missing values in any column\n",
        "flights = flights.dropna()\n",
        "print(\"After cleaning, the data contain %d records.\" % flights.count())"
      ],
      "metadata": {
        "colab": {
          "base_uri": "https://localhost:8080/"
        },
        "id": "PYto65lhx_-O",
        "outputId": "06a1cfbf-02b5-4d04-f33e-cd353887961a"
      },
      "execution_count": null,
      "outputs": [
        {
          "output_type": "stream",
          "name": "stdout",
          "text": [
            "After cleaning, the data contain 47022 records.\n"
          ]
        }
      ]
    },
    {
      "cell_type": "markdown",
      "source": [
        "# Pipeline"
      ],
      "metadata": {
        "id": "9ky4BXyfyFdr"
      }
    },
    {
      "cell_type": "code",
      "source": [
        "# Step 0: Convert 'mile' to 'km' and drop 'mile' column\n",
        "flights = flights.withColumn('km', round(flights.mile * 1.60934, 0)).drop('mile')"
      ],
      "metadata": {
        "id": "wsJATqRfJ3Dm"
      },
      "execution_count": null,
      "outputs": []
    },
    {
      "cell_type": "code",
      "source": [
        "# Step 1: Indexing the 'org' column to convert categorical data to numeric indices\n",
        "indexer = StringIndexer(inputCol='org', outputCol='org_idx')"
      ],
      "metadata": {
        "id": "VStbJz62IWAR"
      },
      "execution_count": null,
      "outputs": []
    },
    {
      "cell_type": "code",
      "source": [
        "# Step 2: One-hot encoding for 'org_idx' and 'dow' columns to create dummy variables\n",
        "onehot = OneHotEncoder(\n",
        "    inputCols=['org_idx', 'dow'],\n",
        "    outputCols=['org_dummy', 'dow_dummy']\n",
        ")"
      ],
      "metadata": {
        "id": "-1Wt8uSNOTHT"
      },
      "execution_count": null,
      "outputs": []
    },
    {
      "cell_type": "code",
      "source": [
        "# Step 3: Assembling all feature columns ('km', 'org_dummy', 'dow_dummy') into a single vector column\n",
        "assembler = VectorAssembler(\n",
        "    inputCols=['km', 'org_dummy', 'dow_dummy'],\n",
        "    outputCol='features'\n",
        ")"
      ],
      "metadata": {
        "id": "kGtGiAejOWTg"
      },
      "execution_count": null,
      "outputs": []
    },
    {
      "cell_type": "code",
      "source": [
        "# Step 4: Defining the linear regression model to predict 'duration'\n",
        "regression = LinearRegression(labelCol='duration')"
      ],
      "metadata": {
        "id": "rgEIikLVOZK0"
      },
      "execution_count": null,
      "outputs": []
    },
    {
      "cell_type": "code",
      "source": [
        "# Step 5: Creating a pipeline with all the above stages\n",
        "pipeline = Pipeline(stages=[indexer, onehot, assembler, regression])"
      ],
      "metadata": {
        "id": "IX6yPb4VOa90"
      },
      "execution_count": null,
      "outputs": []
    },
    {
      "cell_type": "code",
      "source": [
        "# Step 6: Training the pipeline on the training data split\n",
        "flights_train, flights_test = flights.randomSplit([0.8, 0.2], seed=42)\n",
        "model = pipeline.fit(flights_train)"
      ],
      "metadata": {
        "id": "VV7exHEKOcqE"
      },
      "execution_count": null,
      "outputs": []
    },
    {
      "cell_type": "code",
      "source": [
        "# Step 7: Using the trained model to make predictions on the test data\n",
        "predictions = model.transform(flights_test)"
      ],
      "metadata": {
        "id": "YuD8bmmuOeta"
      },
      "execution_count": null,
      "outputs": []
    },
    {
      "cell_type": "code",
      "source": [
        "# Step 8: Evaluating the model's performance\n",
        "evaluator = RegressionEvaluator(labelCol='duration', metricName='rmse')\n",
        "rmse = evaluator.evaluate(predictions)\n",
        "print(f\"Root Mean Squared Error (RMSE) on test data = {rmse}\")"
      ],
      "metadata": {
        "colab": {
          "base_uri": "https://localhost:8080/"
        },
        "id": "UBN0912HOgAu",
        "outputId": "1794fe1d-426a-4990-89a2-f83ac3c1b001"
      },
      "execution_count": null,
      "outputs": [
        {
          "output_type": "stream",
          "name": "stdout",
          "text": [
            "Root Mean Squared Error (RMSE) on test data = 10.958803623058985\n"
          ]
        }
      ]
    },
    {
      "cell_type": "code",
      "source": [
        "# Step 9: Setting up a parameter grid for model tuning\n",
        "paramGrid = ParamGridBuilder() \\\n",
        "    .addGrid(regression.regParam, [0.01, 0.1, 1.0, 10.0]) \\\n",
        "    .addGrid(regression.elasticNetParam, [0.0, 0.5, 1.0]) \\\n",
        "    .build()"
      ],
      "metadata": {
        "id": "sYCIQSw2Ojkn"
      },
      "execution_count": null,
      "outputs": []
    },
    {
      "cell_type": "code",
      "source": [
        "# Step 10: Cross-validator to find the best model parameters\n",
        "cv = CrossValidator(estimator=pipeline,\n",
        "                    estimatorParamMaps=paramGrid,\n",
        "                    evaluator=evaluator,\n",
        "                    numFolds=5)"
      ],
      "metadata": {
        "id": "AKVsvj86Ok-f"
      },
      "execution_count": null,
      "outputs": []
    },
    {
      "cell_type": "code",
      "source": [
        "# Step 11: Running cross-validation, and choosing the best model parameters\n",
        "cvModel = cv.fit(flights_train)"
      ],
      "metadata": {
        "id": "iJ896Fr-OmTI"
      },
      "execution_count": null,
      "outputs": []
    },
    {
      "cell_type": "code",
      "source": [
        "# Step 12: Examining the best model's performance and parameters\n",
        "bestModel = cvModel.bestModel\n",
        "predictions = bestModel.transform(flights_test)\n",
        "bestRmse = evaluator.evaluate(predictions)\n",
        "print(f\"Best RMSE on test data = {bestRmse}\")\n",
        "print(bestModel.stages[-1].extractParamMap())"
      ],
      "metadata": {
        "colab": {
          "base_uri": "https://localhost:8080/"
        },
        "id": "7dVJYAHnOntP",
        "outputId": "025fe8b5-1408-4df0-d5bc-c3502a45e0c8"
      },
      "execution_count": null,
      "outputs": [
        {
          "output_type": "stream",
          "name": "stdout",
          "text": [
            "Best RMSE on test data = 10.958772686128164\n",
            "{Param(parent='LinearRegression_edee7ebcdf87', name='aggregationDepth', doc='suggested depth for treeAggregate (>= 2).'): 2, Param(parent='LinearRegression_edee7ebcdf87', name='elasticNetParam', doc='the ElasticNet mixing parameter, in range [0, 1]. For alpha = 0, the penalty is an L2 penalty. For alpha = 1, it is an L1 penalty.'): 0.0, Param(parent='LinearRegression_edee7ebcdf87', name='epsilon', doc='The shape parameter to control the amount of robustness. Must be > 1.0. Only valid when loss is huber'): 1.35, Param(parent='LinearRegression_edee7ebcdf87', name='featuresCol', doc='features column name.'): 'features', Param(parent='LinearRegression_edee7ebcdf87', name='fitIntercept', doc='whether to fit an intercept term.'): True, Param(parent='LinearRegression_edee7ebcdf87', name='labelCol', doc='label column name.'): 'duration', Param(parent='LinearRegression_edee7ebcdf87', name='loss', doc='The loss function to be optimized. Supported options: squaredError, huber.'): 'squaredError', Param(parent='LinearRegression_edee7ebcdf87', name='maxBlockSizeInMB', doc='maximum memory in MB for stacking input data into blocks. Data is stacked within partitions. If more than remaining data size in a partition then it is adjusted to the data size. Default 0.0 represents choosing optimal value, depends on specific algorithm. Must be >= 0.'): 0.0, Param(parent='LinearRegression_edee7ebcdf87', name='maxIter', doc='max number of iterations (>= 0).'): 100, Param(parent='LinearRegression_edee7ebcdf87', name='predictionCol', doc='prediction column name.'): 'prediction', Param(parent='LinearRegression_edee7ebcdf87', name='regParam', doc='regularization parameter (>= 0).'): 0.01, Param(parent='LinearRegression_edee7ebcdf87', name='solver', doc='The solver algorithm for optimization. Supported options: auto, normal, l-bfgs.'): 'auto', Param(parent='LinearRegression_edee7ebcdf87', name='standardization', doc='whether to standardize the training features before fitting the model.'): True, Param(parent='LinearRegression_edee7ebcdf87', name='tol', doc='the convergence tolerance for iterative algorithms (>= 0).'): 1e-06}\n"
          ]
        }
      ]
    }
  ]
}