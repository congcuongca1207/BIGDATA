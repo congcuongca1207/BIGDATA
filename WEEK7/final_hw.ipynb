{
  "cells": [
    {
      "cell_type": "markdown",
      "id": "6918e18a-c248-4929-b552-7aee2057c0eb",
      "metadata": {
        "id": "6918e18a-c248-4929-b552-7aee2057c0eb"
      },
      "source": [
        "It's simple to buy any product with a click and have it delivered to your door. Online shopping has been rapidly evolving over the last few years, making our lives easier. But behind the scenes, e-commerce companies face a complex challenge that needs to be addressed.\n",
        "\n",
        "Uncertainty plays a big role in how the supply chains plan and organize their operations to ensure that the products are delivered on time. These uncertainties can lead to challenges such as stockouts, delayed deliveries, and increased operational costs.\n",
        "\n",
        "You work for the Sales & Operations Planning (S&OP) team at a multinational e-commerce company. They need your help to assist in planning for the upcoming end-of-the-year sales. They want to use your insights to plan for promotional opportunities and manage their inventory. This effort is to ensure they have the right products in stock when needed and ensure their customers are satisfied with the prompt delivery to their doorstep.\n",
        "\n",
        "\n",
        "## The Data\n",
        "\n",
        "You are provided with a sales dataset to use. A summary and preview are provided below.\n",
        "\n",
        "# Online Retail.csv\n",
        "\n",
        "| Column     | Description              |\n",
        "|------------|--------------------------|\n",
        "| `'InvoiceNo'` | A 6-digit number uniquely assigned to each transaction |\n",
        "| `'StockCode'` | A 5-digit number uniquely assigned to each distinct product |\n",
        "| `'Description'` | The product name |\n",
        "| `'Quantity'` | The quantity of each product (item) per transaction |\n",
        "| `'UnitPrice'` | Product price per unit |\n",
        "| `'CustomerID'` | A 5-digit number uniquely assigned to each customer |\n",
        "| `'Country'` | The name of the country where each customer resides |\n",
        "| `'InvoiceDate'` | The day and time when each transaction was generated `\"MM/DD/YYYY\"` |\n",
        "| `'Year'` | The year when each transaction was generated |\n",
        "| `'Month'` | The month when each transaction was generated |\n",
        "| `'Week'` | The week when each transaction was generated (`1`-`52`) |\n",
        "| `'Day'` | The day of the month when each transaction was generated (`1`-`31`) |\n",
        "| `'DayOfWeek'` | The day of the weeke when each transaction was generated <br>(`0` = Monday, `6` = Sunday) |"
      ]
    },
    {
      "cell_type": "markdown",
      "id": "YEmlg8nP-n6b",
      "metadata": {
        "id": "YEmlg8nP-n6b"
      },
      "source": [
        "**Analyze the Online Retail.csv dataset and build a forecasting model to predict 'Quantity' of products sold.**\n",
        "\n",
        "1. Split the data into two sets based on the splitting date, \"2011-09-25\". All data up to and including this date should be in the training set, while data after this date should be in the test set. Return a pandas DataFrame, pd_daily_train_data, containing, at least, the columns \"Country\", \"StockCode\", \"InvoiceDate\", \"Quantity\".\n",
        "\n",
        "2. Using your test set, calculate the Mean Absolute Error (MAE) for your forecast model for the 'Quantity' sold? Return a double (float) named mae.\n",
        "\n",
        "3. How many units are expected to be sold during the week 39 of 2011? Store as an integer variable called quantity_sold_w39."
      ]
    },
    {
      "cell_type": "markdown",
      "id": "958731ac",
      "metadata": {},
      "source": []
    }
  ],
  "metadata": {
    "colab": {
      "provenance": []
    },
    "kernelspec": {
      "display_name": "Python 3 (ipykernel)",
      "language": "python",
      "name": "python3"
    },
    "language_info": {
      "codemirror_mode": {
        "name": "ipython",
        "version": 3
      },
      "file_extension": ".py",
      "mimetype": "text/x-python",
      "name": "python",
      "nbconvert_exporter": "python",
      "pygments_lexer": "ipython3",
      "version": "3.8.10"
    }
  },
  "nbformat": 4,
  "nbformat_minor": 5
}
