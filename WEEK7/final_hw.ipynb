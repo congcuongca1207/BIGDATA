{
  "cells": [
    {
      "cell_type": "markdown",
      "id": "6918e18a-c248-4929-b552-7aee2057c0eb",
      "metadata": {
        "id": "6918e18a-c248-4929-b552-7aee2057c0eb"
      },
      "source": [
        "It's simple to buy any product with a click and have it delivered to your door. Online shopping has been rapidly evolving over the last few years, making our lives easier. But behind the scenes, e-commerce companies face a complex challenge that needs to be addressed.\n",
        "\n",
        "Uncertainty plays a big role in how the supply chains plan and organize their operations to ensure that the products are delivered on time. These uncertainties can lead to challenges such as stockouts, delayed deliveries, and increased operational costs.\n",
        "\n",
        "You work for the Sales & Operations Planning (S&OP) team at a multinational e-commerce company. They need your help to assist in planning for the upcoming end-of-the-year sales. They want to use your insights to plan for promotional opportunities and manage their inventory. This effort is to ensure they have the right products in stock when needed and ensure their customers are satisfied with the prompt delivery to their doorstep.\n",
        "\n",
        "\n",
        "## The Data\n",
        "\n",
        "You are provided with a sales dataset to use. A summary and preview are provided below.\n",
        "\n",
        "# Online Retail.csv\n",
        "\n",
        "| Column     | Description              |\n",
        "|------------|--------------------------|\n",
        "| `'InvoiceNo'` | A 6-digit number uniquely assigned to each transaction |\n",
        "| `'StockCode'` | A 5-digit number uniquely assigned to each distinct product |\n",
        "| `'Description'` | The product name |\n",
        "| `'Quantity'` | The quantity of each product (item) per transaction |\n",
        "| `'UnitPrice'` | Product price per unit |\n",
        "| `'CustomerID'` | A 5-digit number uniquely assigned to each customer |\n",
        "| `'Country'` | The name of the country where each customer resides |\n",
        "| `'InvoiceDate'` | The day and time when each transaction was generated `\"MM/DD/YYYY\"` |\n",
        "| `'Year'` | The year when each transaction was generated |\n",
        "| `'Month'` | The month when each transaction was generated |\n",
        "| `'Week'` | The week when each transaction was generated (`1`-`52`) |\n",
        "| `'Day'` | The day of the month when each transaction was generated (`1`-`31`) |\n",
        "| `'DayOfWeek'` | The day of the weeke when each transaction was generated <br>(`0` = Monday, `6` = Sunday) |"
      ]
    },
    {
      "cell_type": "markdown",
      "id": "YEmlg8nP-n6b",
      "metadata": {
        "id": "YEmlg8nP-n6b"
      },
      "source": [
        "**Analyze the Online Retail.csv dataset and build a forecasting model to predict 'Quantity' of products sold.**\n",
        "\n",
        "1. Split the data into two sets based on the splitting date, \"2011-09-25\". All data up to and including this date should be in the training set, while data after this date should be in the test set. Return a pandas DataFrame, pd_daily_train_data, containing, at least, the columns \"Country\", \"StockCode\", \"InvoiceDate\", \"Quantity\".\n",
        "\n",
        "2. Using your test set, calculate the Mean Absolute Error (MAE) for your forecast model for the 'Quantity' sold? Return a double (float) named mae.\n",
        "\n",
        "3. How many units are expected to be sold during the week 39 of 2011? Store as an integer variable called quantity_sold_w39."
      ]
    },
    {
      "cell_type": "code",
      "execution_count": 1,
      "id": "1f95366d",
      "metadata": {},
      "outputs": [],
      "source": [
        "from pyspark.sql import SparkSession\n",
        "from pyspark.sql.functions import col, year, weekofyear\n",
        "from pyspark.ml.regression import RandomForestRegressor\n",
        "from pyspark.ml.feature import VectorAssembler\n",
        "from pyspark.ml.evaluation import RegressionEvaluator\n",
        "from pyspark.ml.feature import StringIndexer\n",
        "from pyspark.sql.types import IntegerType"
      ]
    },
    {
      "cell_type": "code",
      "execution_count": 2,
      "id": "1d11ae49",
      "metadata": {},
      "outputs": [
        {
          "name": "stderr",
          "output_type": "stream",
          "text": [
            "24/05/19 08:52:15 WARN Utils: Your hostname, codespaces-429cb5 resolves to a loopback address: 127.0.0.1; using 172.16.5.4 instead (on interface eth0)\n",
            "24/05/19 08:52:15 WARN Utils: Set SPARK_LOCAL_IP if you need to bind to another address\n",
            "Setting default log level to \"WARN\".\n",
            "To adjust logging level use sc.setLogLevel(newLevel). For SparkR, use setLogLevel(newLevel).\n",
            "24/05/19 08:52:16 WARN NativeCodeLoader: Unable to load native-hadoop library for your platform... using builtin-java classes where applicable\n",
            "24/05/19 08:52:30 WARN GarbageCollectionMetrics: To enable non-built-in garbage collector(s) List(G1 Concurrent GC), users should configure it(them) to spark.eventLog.gcMetrics.youngGenerationGarbageCollectors or spark.eventLog.gcMetrics.oldGenerationGarbageCollectors\n",
            "                                                                                \r"
          ]
        }
      ],
      "source": [
        "# Create a SparkSession\n",
        "spark = SparkSession.builder \\\n",
        "    .appName(\"OnlineRetailForecasting\") \\\n",
        "    .getOrCreate()\n",
        "\n",
        "# Load the dataset\n",
        "df = spark.read.csv(\"OnlineRetail.csv\", header=True, inferSchema=True)\n",
        "# Filter the data based on the splitting date\n",
        "split_date = \"2011-09-25\"\n",
        "train_data = df.filter(col(\"InvoiceDate\") <= split_date)\n",
        "test_data = df.filter(col(\"InvoiceDate\") > split_date)\n",
        "\n",
        "# Index the 'Country' column\n",
        "indexer = StringIndexer(inputCol=\"Country\", outputCol=\"CountryIndex\")\n",
        "indexed_train_data = indexer.fit(train_data).transform(train_data)\n",
        "indexed_test_data = indexer.fit(test_data).transform(test_data)\n",
        "\n",
        "# Select relevant columns for training data\n",
        "train_data_final = indexed_train_data.select(\"CountryIndex\", \"StockCode\", \"InvoiceDate\", \"Quantity\")\n",
        "test_data_final = indexed_test_data.select(\"CountryIndex\", \"StockCode\", \"InvoiceDate\", \"Quantity\")"
      ]
    },
    {
      "cell_type": "code",
      "execution_count": 3,
      "id": "57b85ffd",
      "metadata": {},
      "outputs": [],
      "source": [
        "df_train_numeric = train_data_final.filter(col(\"StockCode\").rlike(\"^[0-9]+$\")) \\\n",
        "                                    .withColumn(\"StockCode\", col(\"StockCode\").cast(IntegerType()))\n",
        "df_test_numeric = test_data_final.filter(col(\"StockCode\").rlike(\"^[0-9]+$\")) \\\n",
        "                                    .withColumn(\"StockCode\", col(\"StockCode\").cast(IntegerType()))"
      ]
    },
    {
      "cell_type": "code",
      "execution_count": 4,
      "id": "349902b6",
      "metadata": {},
      "outputs": [],
      "source": [
        "# Define features\n",
        "feature_columns = [\"CountryIndex\", \"StockCode\"]  # Add more features if needed\n",
        "\n",
        "# Vectorize features\n",
        "assembler = VectorAssembler(inputCols=feature_columns, outputCol=\"features\")\n",
        "vectorized_train_data = assembler.transform(df_train_numeric)"
      ]
    },
    {
      "cell_type": "code",
      "execution_count": 5,
      "id": "49147ad1",
      "metadata": {},
      "outputs": [
        {
          "name": "stderr",
          "output_type": "stream",
          "text": [
            "                                                                                \r"
          ]
        }
      ],
      "source": [
        "rf = RandomForestRegressor(featuresCol=\"features\", labelCol=\"Quantity\", maxBins=50)\n",
        "model = rf.fit(vectorized_train_data)"
      ]
    },
    {
      "cell_type": "code",
      "execution_count": 6,
      "id": "6006d418",
      "metadata": {},
      "outputs": [],
      "source": [
        "vectorized_test_data = assembler.transform(df_test_numeric)\n",
        "predictions = model.transform(vectorized_test_data)"
      ]
    },
    {
      "cell_type": "code",
      "execution_count": 7,
      "id": "94f80870",
      "metadata": {},
      "outputs": [
        {
          "name": "stderr",
          "output_type": "stream",
          "text": [
            "[Stage 22:=============================>                            (1 + 1) / 2]\r"
          ]
        },
        {
          "name": "stdout",
          "output_type": "stream",
          "text": [
            "Mean Absolute Error (MAE): 11.570475212250512\n"
          ]
        },
        {
          "name": "stderr",
          "output_type": "stream",
          "text": [
            "                                                                                \r"
          ]
        }
      ],
      "source": [
        "# Evaluate the model using Mean Absolute Error (MAE)\n",
        "evaluator = RegressionEvaluator(labelCol=\"Quantity\", predictionCol=\"prediction\", metricName=\"mae\")\n",
        "mae = evaluator.evaluate(predictions)\n",
        "\n",
        "print(\"Mean Absolute Error (MAE):\", mae)\n"
      ]
    },
    {
      "cell_type": "code",
      "execution_count": 8,
      "id": "43a4dad4",
      "metadata": {},
      "outputs": [
        {
          "name": "stderr",
          "output_type": "stream",
          "text": [
            "                                                                                \r"
          ]
        },
        {
          "name": "stdout",
          "output_type": "stream",
          "text": [
            "Units expected to be sold during week 39 of 2011: 0\n"
          ]
        }
      ],
      "source": [
        "week_39_quantity = df.filter((year(\"InvoiceDate\") == 2011) & (weekofyear(\"InvoiceDate\") == 39)) \\\n",
        "                     .selectExpr(\"sum(Quantity) as total_quantity\") \\\n",
        "                     .collect()[0][\"total_quantity\"]\n",
        "\n",
        "quantity_sold_w39 = week_39_quantity if week_39_quantity is not None else 0\n",
        "\n",
        "print(\"Units expected to be sold during week 39 of 2011:\", quantity_sold_w39)"
      ]
    },
    {
      "cell_type": "code",
      "execution_count": null,
      "id": "448c5aa6",
      "metadata": {},
      "outputs": [],
      "source": []
    }
  ],
  "metadata": {
    "colab": {
      "provenance": []
    },
    "kernelspec": {
      "display_name": "Python 3 (ipykernel)",
      "language": "python",
      "name": "python3"
    },
    "language_info": {
      "codemirror_mode": {
        "name": "ipython",
        "version": 3
      },
      "file_extension": ".py",
      "mimetype": "text/x-python",
      "name": "python",
      "nbconvert_exporter": "python",
      "pygments_lexer": "ipython3",
      "version": "3.10.13"
    }
  },
  "nbformat": 4,
  "nbformat_minor": 5
}
