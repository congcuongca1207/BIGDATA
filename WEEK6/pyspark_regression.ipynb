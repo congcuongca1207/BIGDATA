{
  "nbformat": 4,
  "nbformat_minor": 0,
  "metadata": {
    "colab": {
      "provenance": []
    },
    "kernelspec": {
      "name": "python3",
      "display_name": "Python 3"
    },
    "language_info": {
      "name": "python"
    }
  },
  "cells": [
    {
      "cell_type": "markdown",
      "source": [
        "# Set Up"
      ],
      "metadata": {
        "id": "m1d63FxXxcuT"
      }
    },
    {
      "cell_type": "code",
      "execution_count": null,
      "metadata": {
        "id": "emr-JzoWrtUs"
      },
      "outputs": [],
      "source": [
        "#!pip install pyspark"
      ]
    },
    {
      "cell_type": "code",
      "source": [
        "from pyspark.sql import SparkSession\n",
        "from pyspark.sql.functions import round\n",
        "from pyspark.ml.feature import StringIndexer, OneHotEncoder, VectorAssembler, Bucketizer\n",
        "from pyspark.ml.regression import LinearRegression\n",
        "from pyspark.ml.evaluation import RegressionEvaluator"
      ],
      "metadata": {
        "id": "Eveqw992xhdn"
      },
      "execution_count": null,
      "outputs": []
    },
    {
      "cell_type": "code",
      "source": [
        "# Create SparkSession object\n",
        "spark = SparkSession.builder \\\n",
        "                    .master('local[*]') \\\n",
        "                    .appName('Flight Data Analysis') \\\n",
        "                    .getOrCreate()"
      ],
      "metadata": {
        "id": "xpXCMg2CxjfC"
      },
      "execution_count": null,
      "outputs": []
    },
    {
      "cell_type": "markdown",
      "source": [
        "# Read Data"
      ],
      "metadata": {
        "id": "ki0xH3aCxknM"
      }
    },
    {
      "cell_type": "code",
      "source": [
        "# Read data from CSV file\n",
        "flights = spark.read.csv('flights.csv', sep=',', header=True, inferSchema=True, nullValue='NA')"
      ],
      "metadata": {
        "id": "THY0gFnTxotZ"
      },
      "execution_count": null,
      "outputs": []
    },
    {
      "cell_type": "code",
      "source": [
        "# Get number of records\n",
        "print(\"The data contain %d records.\" % flights.count())"
      ],
      "metadata": {
        "colab": {
          "base_uri": "https://localhost:8080/"
        },
        "id": "qdpWh3EyxqNh",
        "outputId": "24f19af4-c6ed-490e-c149-37f3f67236dd"
      },
      "execution_count": null,
      "outputs": [
        {
          "output_type": "stream",
          "name": "stdout",
          "text": [
            "The data contain 50000 records.\n"
          ]
        }
      ]
    },
    {
      "cell_type": "code",
      "source": [
        "# View the first five records\n",
        "flights.show(5)"
      ],
      "metadata": {
        "colab": {
          "base_uri": "https://localhost:8080/"
        },
        "id": "rskR3JT6xuyu",
        "outputId": "228d2d58-b403-4ef6-f779-14370879ad70"
      },
      "execution_count": null,
      "outputs": [
        {
          "output_type": "stream",
          "name": "stdout",
          "text": [
            "+---+---+---+-------+------+---+----+------+--------+-----+\n",
            "|mon|dom|dow|carrier|flight|org|mile|depart|duration|delay|\n",
            "+---+---+---+-------+------+---+----+------+--------+-----+\n",
            "| 11| 20|  6|     US|    19|JFK|2153|  9.48|     351| NULL|\n",
            "|  0| 22|  2|     UA|  1107|ORD| 316| 16.33|      82|   30|\n",
            "|  2| 20|  4|     UA|   226|SFO| 337|  6.17|      82|   -8|\n",
            "|  9| 13|  1|     AA|   419|ORD|1236| 10.33|     195|   -5|\n",
            "|  4|  2|  5|     AA|   325|ORD| 258|  8.92|      65| NULL|\n",
            "+---+---+---+-------+------+---+----+------+--------+-----+\n",
            "only showing top 5 rows\n",
            "\n"
          ]
        }
      ]
    },
    {
      "cell_type": "code",
      "source": [
        "flights.printSchema()"
      ],
      "metadata": {
        "colab": {
          "base_uri": "https://localhost:8080/"
        },
        "id": "EACTiMo1xw8g",
        "outputId": "9c804bbf-a8bf-4428-8608-9881587a07ac"
      },
      "execution_count": null,
      "outputs": [
        {
          "output_type": "stream",
          "name": "stdout",
          "text": [
            "root\n",
            " |-- mon: integer (nullable = true)\n",
            " |-- dom: integer (nullable = true)\n",
            " |-- dow: integer (nullable = true)\n",
            " |-- carrier: string (nullable = true)\n",
            " |-- flight: integer (nullable = true)\n",
            " |-- org: string (nullable = true)\n",
            " |-- mile: integer (nullable = true)\n",
            " |-- depart: double (nullable = true)\n",
            " |-- duration: integer (nullable = true)\n",
            " |-- delay: integer (nullable = true)\n",
            "\n"
          ]
        }
      ]
    },
    {
      "cell_type": "code",
      "source": [
        "flights.describe().show()"
      ],
      "metadata": {
        "colab": {
          "base_uri": "https://localhost:8080/"
        },
        "id": "kDcp8JPKxzV5",
        "outputId": "8f221a85-d970-41e2-e5c6-f50147cca4ec"
      },
      "execution_count": null,
      "outputs": [
        {
          "output_type": "stream",
          "name": "stdout",
          "text": [
            "+-------+-----------------+-----------------+-----------------+-------+------------------+-----+----------------+------------------+-----------------+------------------+\n",
            "|summary|              mon|              dom|              dow|carrier|            flight|  org|            mile|            depart|         duration|             delay|\n",
            "+-------+-----------------+-----------------+-----------------+-------+------------------+-----+----------------+------------------+-----------------+------------------+\n",
            "|  count|            50000|            50000|            50000|  50000|             50000|50000|           50000|             50000|            50000|             47022|\n",
            "|   mean|           5.2351|         15.66196|          2.95236|   NULL|        2054.31344| NULL|       882.40112|14.130952600000064|        151.76582|28.663795670111863|\n",
            "| stddev|3.437758623534696|8.772488135606777|1.966033503314405|   NULL|2182.4715300582875| NULL|701.232785607705| 4.694052286573998|87.04507290261697| 54.24034253403119|\n",
            "|    min|                0|                1|                0|     AA|                 1|  JFK|              67|              0.25|               30|               -72|\n",
            "|    max|               11|               31|                6|     WN|              6941|  TUS|            4243|             23.98|              560|              1370|\n",
            "+-------+-----------------+-----------------+-----------------+-------+------------------+-----+----------------+------------------+-----------------+------------------+\n",
            "\n"
          ]
        }
      ]
    },
    {
      "cell_type": "markdown",
      "source": [
        "# Clean Data"
      ],
      "metadata": {
        "id": "nksgzzIGx4-t"
      }
    },
    {
      "cell_type": "code",
      "source": [
        "# Remove the 'flight' column\n",
        "flights = flights.drop('flight')"
      ],
      "metadata": {
        "id": "ElAiaaaNx8W-"
      },
      "execution_count": null,
      "outputs": []
    },
    {
      "cell_type": "code",
      "source": [
        "# Remove records with missing 'delay' values\n",
        "flights = flights.filter('delay IS NOT NULL')"
      ],
      "metadata": {
        "id": "pdBxLe2Fx9zp"
      },
      "execution_count": null,
      "outputs": []
    },
    {
      "cell_type": "code",
      "source": [
        "# Remove records with missing values in any column\n",
        "flights = flights.dropna()\n",
        "print(\"After cleaning, the data contain %d records.\" % flights.count())"
      ],
      "metadata": {
        "colab": {
          "base_uri": "https://localhost:8080/"
        },
        "id": "PYto65lhx_-O",
        "outputId": "b70b481f-5222-4c75-8547-e19837458dd6"
      },
      "execution_count": null,
      "outputs": [
        {
          "output_type": "stream",
          "name": "stdout",
          "text": [
            "After cleaning, the data contain 47022 records.\n"
          ]
        }
      ]
    },
    {
      "cell_type": "markdown",
      "source": [
        "# Feature Engineering"
      ],
      "metadata": {
        "id": "9ky4BXyfyFdr"
      }
    },
    {
      "cell_type": "code",
      "source": [
        "# 0. Convert 'mile' to 'km' and drop 'mile' column\n",
        "flights = flights.withColumn('km', round(flights.mile * 1.60934, 0)).drop('mile')"
      ],
      "metadata": {
        "id": "2GzFZtf3HGSt"
      },
      "execution_count": null,
      "outputs": []
    },
    {
      "cell_type": "code",
      "source": [
        "# 1. Index categorical columns 'carrier' and 'org'\n",
        "indexer_carrier = StringIndexer(inputCol='carrier', outputCol='carrier_idx')\n",
        "model_carrier = indexer_carrier.fit(flights)\n",
        "flights = model_carrier.transform(flights)\n",
        "\n",
        "indexer_org = StringIndexer(inputCol='org', outputCol='org_idx')\n",
        "model_org = indexer_org.fit(flights)\n",
        "flights = model_org.transform(flights)"
      ],
      "metadata": {
        "id": "hxvVwkLwHKpW"
      },
      "execution_count": null,
      "outputs": []
    },
    {
      "cell_type": "code",
      "source": [
        "# 2. One-hot encoding for 'org'\n",
        "encoder_org = OneHotEncoder(inputCols=['org_idx'], outputCols=['org_dummy'])\n",
        "flights = encoder_org.fit(flights).transform(flights)"
      ],
      "metadata": {
        "id": "zR7iL6GiHLIY"
      },
      "execution_count": null,
      "outputs": []
    },
    {
      "cell_type": "code",
      "source": [
        "# 3. Bucketize 'depart' into 3-hour intervals\n",
        "bucketizer = Bucketizer(splits=list(range(0, 25, 3)), inputCol='depart', outputCol='depart_bucket')\n",
        "flights = bucketizer.transform(flights)"
      ],
      "metadata": {
        "id": "7HxRZe7ZHNG6"
      },
      "execution_count": null,
      "outputs": []
    },
    {
      "cell_type": "code",
      "source": [
        "# 4. One-hot encoding for 'depart_bucket'\n",
        "encoder_depart = OneHotEncoder(inputCols=['depart_bucket'], outputCols=['depart_dummy'])\n",
        "flights = encoder_depart.fit(flights).transform(flights)"
      ],
      "metadata": {
        "id": "BqPsRJJzHOP1"
      },
      "execution_count": null,
      "outputs": []
    },
    {
      "cell_type": "code",
      "source": [
        "# 5. One-hot encode 'dow' (day of week) and 'mon' (month)\n",
        "encoder_dow = OneHotEncoder(inputCols=['dow'], outputCols=['dow_dummy'])\n",
        "flights = encoder_dow.fit(flights).transform(flights)\n",
        "\n",
        "encoder_mon = OneHotEncoder(inputCols=['mon'], outputCols=['mon_dummy'])\n",
        "flights = encoder_mon.fit(flights).transform(flights)"
      ],
      "metadata": {
        "id": "GjRD81xAHPeg"
      },
      "execution_count": null,
      "outputs": []
    },
    {
      "cell_type": "code",
      "source": [
        "# 6. Assemble features into a single vector column\n",
        "assembler = VectorAssembler(inputCols=['km', 'org_dummy', 'depart_dummy', 'dow_dummy', 'mon_dummy'], outputCol='features')\n",
        "flights = assembler.transform(flights)"
      ],
      "metadata": {
        "id": "ny7-3LQ_HQfl"
      },
      "execution_count": null,
      "outputs": []
    },
    {
      "cell_type": "markdown",
      "source": [
        "# Build Linear Regression Model"
      ],
      "metadata": {
        "id": "MxYZZliCHRko"
      }
    },
    {
      "cell_type": "code",
      "source": [
        "# Split the data\n",
        "train_data, test_data = flights.randomSplit([0.8, 0.2], seed=42)"
      ],
      "metadata": {
        "id": "Myf4wdQbHUyH"
      },
      "execution_count": null,
      "outputs": []
    },
    {
      "cell_type": "code",
      "source": [
        "# Build the model\n",
        "regression = LinearRegression(featuresCol='features', labelCol='duration')\n",
        "model = regression.fit(train_data)"
      ],
      "metadata": {
        "id": "wCE9Gw6VHVsd"
      },
      "execution_count": null,
      "outputs": []
    },
    {
      "cell_type": "code",
      "source": [
        "# Make predictions\n",
        "predictions = model.transform(test_data)"
      ],
      "metadata": {
        "id": "Pl72sxy6HWyO"
      },
      "execution_count": null,
      "outputs": []
    },
    {
      "cell_type": "markdown",
      "source": [
        "# Evaluate Model"
      ],
      "metadata": {
        "id": "fjLSqCDJHXJK"
      }
    },
    {
      "cell_type": "code",
      "source": [
        "# Evaluate the model\n",
        "evaluator = RegressionEvaluator(labelCol='duration', metricName='rmse')\n",
        "rmse = evaluator.evaluate(predictions)\n",
        "print(\"Root Mean Square Error (RMSE) on test data =\", rmse)\n",
        "\n",
        "# Print coefficients and intercept for interpretation\n",
        "print(\"Coefficients:\", model.coefficients)\n",
        "print(\"Intercept:\", model.intercept)"
      ],
      "metadata": {
        "colab": {
          "base_uri": "https://localhost:8080/"
        },
        "id": "T5tJolmTHamP",
        "outputId": "f7e5c90a-5228-48c5-dd27-901f09864a8e"
      },
      "execution_count": null,
      "outputs": [
        {
          "output_type": "stream",
          "name": "stdout",
          "text": [
            "Root Mean Square Error (RMSE) on test data = 10.554263427234297\n",
            "Coefficients: [0.07444147376085378,27.476492289083048,20.31885115059569,51.823424122389596,45.89694430098321,15.295887358001956,17.71215150132268,17.35511231496498,-15.117129298334262,1.5041021032109734,3.9491015790392745,6.891971690056981,4.563688708470956,8.720145274986374,8.657433176655813,0.46418453532851983,0.25366681707506505,-0.06993764706617553,0.353176161751262,0.5382243945078051,0.27174673946852906,-2.0069758486591036,-2.3183604639142095,-2.196580694340696,-3.5981266246763735,-4.463505870693827,-4.3785957245265354,-4.693367973095902,-4.5338012134263135,-4.051231426350411,-3.0499862274969116,-1.1243430652560114]\n",
            "Intercept: 13.037680850267934\n"
          ]
        }
      ]
    },
    {
      "cell_type": "markdown",
      "source": [
        "# Enhancing the model with Lasso regularization"
      ],
      "metadata": {
        "id": "BFyA9-hcHbm2"
      }
    },
    {
      "cell_type": "code",
      "source": [
        "# Build the model with Lasso Regularization\n",
        "lasso_regression = LinearRegression(featuresCol='features', labelCol='duration', regParam=0.1, elasticNetParam=1)\n",
        "lasso_model = lasso_regression.fit(train_data)"
      ],
      "metadata": {
        "id": "b2-XHoD5Hdmc"
      },
      "execution_count": null,
      "outputs": []
    },
    {
      "cell_type": "code",
      "source": [
        "# Make predictions with the Lasso model\n",
        "lasso_predictions = lasso_model.transform(test_data)"
      ],
      "metadata": {
        "id": "qz_H3xnaHe02"
      },
      "execution_count": null,
      "outputs": []
    },
    {
      "cell_type": "code",
      "source": [
        "# Evaluate the Lasso model\n",
        "lasso_rmse = evaluator.evaluate(lasso_predictions)\n",
        "print(\"Lasso RMSE on test data =\", lasso_rmse)"
      ],
      "metadata": {
        "colab": {
          "base_uri": "https://localhost:8080/"
        },
        "id": "296n3sJFHhSI",
        "outputId": "e08a3fe2-976d-467c-8c42-24c624ba6efe"
      },
      "execution_count": null,
      "outputs": [
        {
          "output_type": "stream",
          "name": "stdout",
          "text": [
            "Lasso RMSE on test data = 10.71063539020168\n"
          ]
        }
      ]
    },
    {
      "cell_type": "code",
      "source": [
        "# Print Lasso coefficients and intercept for interpretation\n",
        "print(\"Lasso Coefficients:\", lasso_model.coefficients)\n",
        "print(\"Lasso Intercept:\", lasso_model.intercept)"
      ],
      "metadata": {
        "colab": {
          "base_uri": "https://localhost:8080/"
        },
        "id": "coxk6SkJHi8p",
        "outputId": "aac48048-0975-4b00-feb7-02f9c5c5f1a6"
      },
      "execution_count": null,
      "outputs": [
        {
          "output_type": "stream",
          "name": "stdout",
          "text": [
            "Lasso Coefficients: [0.07426817733029681,17.184711091156284,9.83153244819494,41.42335140494034,35.36935057230134,4.621911085273369,7.062042940049097,6.487205861832949,-13.022688634100811,0.0,1.5499011765161845,4.486505196250478,1.9266849624651667,6.190241452445093,6.163164451019345,0.0,0.0,-0.04845823132271837,0.0,0.0,0.0,0.0,0.0,0.0,-1.1078550426425793,-1.9437459232211398,-1.9283390637615994,-2.269419616922474,-2.0663779889838327,-1.4876332588464753,-0.5561872969405196,0.6767355902439556]\n",
            "Lasso Intercept: 23.938784192625178\n"
          ]
        }
      ]
    }
  ]
}